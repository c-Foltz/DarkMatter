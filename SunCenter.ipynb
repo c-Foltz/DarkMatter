{
 "cells": [
  {
   "cell_type": "code",
   "execution_count": 18,
   "metadata": {},
   "outputs": [],
   "source": [
    "import astropy as ap\n",
    "import astropy.coordinates\n",
    "import time\n",
    "import datetime\n",
    "from astropy.time import Time"
   ]
  },
  {
   "cell_type": "code",
   "execution_count": 2,
   "metadata": {},
   "outputs": [
    {
     "name": "stdout",
     "output_type": "stream",
     "text": [
      "   -8.1120000e+01\t   6.0095300e+01\t\n",
      "\n",
      "   -8.1385000e+01\t   6.0095300e+01\t\n",
      "\n",
      "   -8.0855000e+01\t   6.0095300e+01\t\n",
      "\n",
      "   -8.0967000e+01\t   6.0360300e+01\t\n",
      "\n",
      "   -8.1273000e+01\t   6.0360300e+01\t\n",
      "\n",
      "   -8.0967000e+01\t   5.9830300e+01\t\n",
      "\n",
      "   -8.1273000e+01\t   5.9830300e+01\t\n",
      "\n"
     ]
    }
   ],
   "source": [
    "left_space = \"   \"\n",
    "mid_space = \"\\t   \"\n",
    "right_space = \"\\t\"\n",
    "sunLong = -81.12\n",
    "sunLat = 60.0953\n",
    "long_coord = [sunLong, sunLong - .265, sunLong+.265, sunLong+.153, sunLong-.153,sunLong+.153, sunLong-.153]\n",
    "lat_coord = [sunLat, sunLat, sunLat, sunLat+.265,sunLat+.265,sunLat-.265,sunLat-.265]\n",
    "\n",
    "\n",
    "f= open(\"SunScan2.dat\",\"w+\")\n",
    "for i in range(len(long_coord)):\n",
    "    line = left_space + '{:.7e}'.format(long_coord[i]) + mid_space + '{:.7e}'.format(lat_coord[i]) + right_space + \"\\n\"\n",
    "    print(line)\n",
    "    f.write(line)\n",
    "f.close()"
   ]
  },
  {
   "cell_type": "code",
   "execution_count": 3,
   "metadata": {},
   "outputs": [
    {
     "data": {
      "text/plain": [
       "'   -9.1203000e+01\\t   5.9318250e+01\\t\\n'"
      ]
     },
     "execution_count": 3,
     "metadata": {},
     "output_type": "execute_result"
    }
   ],
   "source": [
    "line"
   ]
  },
  {
   "cell_type": "code",
   "execution_count": 20,
   "metadata": {},
   "outputs": [
    {
     "data": {
      "text/plain": [
       "<SkyCoord (Galactic): (l, b, distance) in (deg, deg, AU)\n",
       "    ( 197.23620278,  18.17957834,  0.00813151)>"
      ]
     },
     "execution_count": 20,
     "metadata": {},
     "output_type": "execute_result"
    }
   ],
   "source": [
    "currentDT = Time.now()\n",
    "ap.coordinates.get_sun(currentDT).galactic"
   ]
  },
  {
   "cell_type": "code",
   "execution_count": 22,
   "metadata": {},
   "outputs": [
    {
     "data": {
      "text/plain": [
       "<Time object: scale='utc' format='datetime' value=2019-09-19 20:56:46.361397>"
      ]
     },
     "execution_count": 22,
     "metadata": {},
     "output_type": "execute_result"
    }
   ],
   "source": [
    "currentDT"
   ]
  },
  {
   "cell_type": "code",
   "execution_count": null,
   "metadata": {},
   "outputs": [],
   "source": []
  }
 ],
 "metadata": {
  "kernelspec": {
   "display_name": "Python 3",
   "language": "python",
   "name": "python3"
  },
  "language_info": {
   "codemirror_mode": {
    "name": "ipython",
    "version": 3
   },
   "file_extension": ".py",
   "mimetype": "text/x-python",
   "name": "python",
   "nbconvert_exporter": "python",
   "pygments_lexer": "ipython3",
   "version": "3.6.1"
  }
 },
 "nbformat": 4,
 "nbformat_minor": 4
}
