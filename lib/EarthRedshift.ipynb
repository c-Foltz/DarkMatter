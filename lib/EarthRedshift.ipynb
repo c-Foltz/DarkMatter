{
 "cells": [
  {
   "cell_type": "code",
   "execution_count": 4,
   "metadata": {},
   "outputs": [
    {
     "name": "stdout",
     "output_type": "stream",
     "text": [
      "Using matplotlib backend: MacOSX\n",
      "Populating the interactive namespace from numpy and matplotlib\n"
     ]
    }
   ],
   "source": [
    "%pylab"
   ]
  },
  {
   "cell_type": "code",
   "execution_count": 22,
   "metadata": {},
   "outputs": [],
   "source": [
    "rad = 180./pi\n",
    "theta_r=180\n",
    "itheta=2*theta_r+0.5\n",
    "theta_sun=180./rad\n",
    "R_MW=55.0 #milky way diameter \n",
    "Rinner=2.0\n",
    "\n",
    "R_sun=25.\n",
    "X_sun=R_sun*(cos(theta_sun))\n",
    "Y_sun=R_sun*(sin(theta_sun))\n",
    "Z_sun=0.0\n",
    "\n",
    "VR=220.\n",
    "VR_sun=VR\n",
    "VX_sun=-VR*sin(theta_sun)\n",
    "VY_sun=VR*cos(theta_sun)\n",
    "VZ_sun=0.\n",
    "\n",
    "iwrite=0"
   ]
  },
  {
   "cell_type": "code",
   "execution_count": 30,
   "metadata": {},
   "outputs": [],
   "source": [
    "def aatan(py,px):\n",
    "    R=2*pi\n",
    "    pxx=px\n",
    "    pyy=py\n",
    "    if px==0:\n",
    "        pxx=0.000001\n",
    "    if py==0:\n",
    "        pyy=0.000001\n",
    "    temp = arctan(abs(pyy/pxx))\n",
    "    if pxx>=0. and pyy>=0.:\n",
    "        return(temp)\n",
    "    if pxx>=0. and pyy<0.:\n",
    "        return(R-temp)\n",
    "    if pxx<0. and pyy>=0.:\n",
    "        return(pi-temp)\n",
    "    if pxx<0. and pyy<0.:\n",
    "        return(pi+temp)"
   ]
  },
  {
   "cell_type": "code",
   "execution_count": 31,
   "metadata": {},
   "outputs": [],
   "source": [
    "IDate=269\n",
    "IShift=14\n",
    "IDate=IDate-IShift\n",
    "\n",
    "Date=IDate/365.*2*np.pi\n",
    "R_earth=1.58e-8\n",
    "V_earth=30.0\n",
    "alpha=28./rad\n",
    "\n",
    "X_earth = X_sun + R_earth*cos(Date)\n",
    "Y_earth = Y_sun + sin(alpha)*V_earth*cos(Date)\n",
    "Z_earth = Z_sun + cos(alpha)*R_earth*sin(Date)"
   ]
  },
  {
   "cell_type": "code",
   "execution_count": 32,
   "metadata": {},
   "outputs": [],
   "source": [
    "VX_earth=VX_sun - V_earth*sin(Date)\n",
    "VY_earth=VY_sun + sin(alpha)*R_earth*sin(Date)\n",
    "VZ_earth=VZ_sun + cos(alpha)*V_earth*cos(Date)"
   ]
  },
  {
   "cell_type": "code",
   "execution_count": 51,
   "metadata": {},
   "outputs": [],
   "source": [
    "dtheta=1.0\n",
    "theta_range=arange(-theta_r,theta_r,dtheta)\n",
    "rr_range=arange(1.5,2*R_MW,1)\n",
    "\n",
    "V_array=[]\n",
    "\n",
    "for theta in theta_range:\n",
    "    for rr in rr_range:\n",
    "        Xwrt_sun=rr*cos(theta/rad)\n",
    "        Ywrt_sun=rr*sin(theta/rad)\n",
    "        Zwrt_sun=0\n",
    "        Rwrt_sun=sqrt(Xwrt_sun**2+Ywrt_sun**2)\n",
    "\n",
    "        Xwrt_gc=Xwrt_sun - R_sun\n",
    "        Ywrt_gc=Ywrt_sun\n",
    "        Zwrt_gc=0\n",
    "        Rwrt_gc=sqrt(Xwrt_gc**2+Ywrt_sun**2)\n",
    "\n",
    "        if (Rwrt_gc>R_MW) or (Rwrt_gc<Rinner):\n",
    "            break\n",
    "        VRwrt_gc=VR\n",
    "        if (Rwrt_gc<10.):\n",
    "            VRwrt_gc=VR*sqrt(Rwrt_gc)/sqrt(10)\n",
    "        theta_gc=aatan(Xwrt_gc,Ywrt_gc)\n",
    "        VXwrt_gc=-VRwrt_gc*sin(theta_gc);    #star speed wrt gc\n",
    "        VYwrt_gc= VRwrt_gc*cos(theta_gc);\n",
    "\n",
    "        RR=sqrt(R_sun*R_sun+rr*rr-2.0*R_sun*rr*cos(theta/rad)); #distance to rr from GC\n",
    "        Vdot=VRwrt_gc*R_sun/RR*sin(theta/rad)-VR*sin(theta/rad);\n",
    "        Vdot1=(VX_sun*Xwrt_sun   +  VY_sun*Ywrt_sun)/rr;\n",
    "        Vdot2=(VXwrt_gc*Xwrt_sun +  VYwrt_gc*Ywrt_sun)/rr;\n",
    "        Vdot=Vdot1-Vdot2;\n",
    "\n",
    "        VEdot1=(VX_earth*Xwrt_sun +VY_earth*Ywrt_sun + VZ_earth*Zwrt_sun)/rr;\n",
    "        VEdot2=(VXwrt_gc*Xwrt_sun +  VYwrt_gc*Ywrt_sun)/rr;\n",
    "        VEdot=VEdot1-VEdot2;\n",
    "        if rr==1.5:\n",
    "            V_array.append(-Vdot+VEdot)\n",
    "        "
   ]
  },
  {
   "cell_type": "code",
   "execution_count": 52,
   "metadata": {},
   "outputs": [
    {
     "data": {
      "text/plain": [
       "[<matplotlib.lines.Line2D at 0x11747ae10>]"
      ]
     },
     "execution_count": 52,
     "metadata": {},
     "output_type": "execute_result"
    },
    {
     "data": {
      "image/png": "[encoded data removed]",
      "text/plain": [
       "<Figure size 432x288 with 1 Axes>"
      ]
     },
     "metadata": {
      "needs_background": "light"
     },
     "output_type": "display_data"
    }
   ],
   "source": [
    "plt.plot(theta_range,V_array)"
   ]
  },
  {
   "cell_type": "code",
   "execution_count": 53,
   "metadata": {},
   "outputs": [],
   "source": [
    "np.save(\"earth_redshift.npy\",np.array(V_array))"
   ]
  },
  {
   "cell_type": "code",
   "execution_count": 55,
   "metadata": {},
   "outputs": [
    {
     "ename": "AttributeError",
     "evalue": "'list' object has no attribute 'shape'",
     "output_type": "error",
     "traceback": [
      "\u001b[0;31m---------------------------------------------------------------------------\u001b[0m",
      "\u001b[0;31mAttributeError\u001b[0m                            Traceback (most recent call last)",
      "\u001b[0;32m<ipython-input-55-531af4f83c78>\u001b[0m in \u001b[0;36m<module>\u001b[0;34m\u001b[0m\n\u001b[1;32m      1\u001b[0m \u001b[0mV_array\u001b[0m\u001b[0;34m[\u001b[0m\u001b[0;36m10\u001b[0m\u001b[0;34m:\u001b[0m\u001b[0;36m80\u001b[0m\u001b[0;34m]\u001b[0m\u001b[0;34m\u001b[0m\u001b[0;34m\u001b[0m\u001b[0m\n\u001b[0;32m----> 2\u001b[0;31m \u001b[0mV_array\u001b[0m\u001b[0;34m.\u001b[0m\u001b[0mshape\u001b[0m\u001b[0;34m\u001b[0m\u001b[0;34m\u001b[0m\u001b[0m\n\u001b[0m",
      "\u001b[0;31mAttributeError\u001b[0m: 'list' object has no attribute 'shape'"
     ]
    }
   ],
   "source": [
    "V_array[10:80]\n",
    "V_array.shape"
   ]
  },
  {
   "cell_type": "code",
   "execution_count": null,
   "metadata": {},
   "outputs": [],
   "source": []
  }
 ],
 "metadata": {
  "kernelspec": {
   "display_name": "Python 3",
   "language": "python",
   "name": "python3"
  },
  "language_info": {
   "codemirror_mode": {
    "name": "ipython",
    "version": 3
   },
   "file_extension": ".py",
   "mimetype": "text/x-python",
   "name": "python",
   "nbconvert_exporter": "python",
   "pygments_lexer": "ipython3",
   "version": "3.7.3"
  }
 },
 "nbformat": 4,
 "nbformat_minor": 4
}
