{
 "cells": [
  {
   "cell_type": "code",
   "execution_count": 1,
   "metadata": {},
   "outputs": [],
   "source": [
    "import numpy as np\n",
    "import matplotlib.pyplot as plt \n",
    "import scipy.signal\n",
    "from scipy.signal import savgol_filter\n",
    "# import plotly.graph_objects as go"
   ]
  },
  {
   "cell_type": "code",
   "execution_count": 2,
   "metadata": {},
   "outputs": [],
   "source": [
    "coor_array=[]\n",
    "\n",
    "long_coord = []\n",
    "lat_coord = []\n",
    "\n",
    "for i in range(2):\n",
    "    long_coord.append(180*i)\n",
    "for k in range(7):\n",
    "    lat_coord.append(-15*k)\n",
    "\n",
    "for lat in lat_coord:\n",
    "    for long in long_coord:\n",
    "        \n",
    "        coor_array.append((long,lat))"
   ]
  },
  {
   "cell_type": "code",
   "execution_count": 3,
   "metadata": {},
   "outputs": [],
   "source": [
    "width=np.load(\"widths.npy\")"
   ]
  },
  {
   "cell_type": "code",
   "execution_count": 4,
   "metadata": {},
   "outputs": [
    {
     "name": "stdout",
     "output_type": "stream",
     "text": [
      "(600,)\n"
     ]
    }
   ],
   "source": [
    "sample_data = np.asarray(np.genfromtxt('../GS4/GS4_Trace{}'.format(1), dtype=float,\n",
    "                         delimiter=\"\\t\", autostrip=True,skip_header=1, names =True))\n",
    "length=len(sample_data)\n",
    "print(sample_data.shape)"
   ]
  },
  {
   "cell_type": "code",
   "execution_count": 5,
   "metadata": {},
   "outputs": [
    {
     "name": "stdout",
     "output_type": "stream",
     "text": [
      "[1.42040167e+09 1.77182407e-05]\n",
      "[1420.40166667   17.71824068]\n"
     ]
    }
   ],
   "source": [
    "raw_data_array=np.empty([180,2,600])\n",
    "for i in range(180):\n",
    "    raw_data = np.genfromtxt('../GS4/GS4_Trace{}'.format(i), dtype=float,\n",
    "    delimiter=\"\\t\", autostrip=True,skip_header=1, names =True)\n",
    "    raw_x=np.array([pair[0] for pair in raw_data])\n",
    "    raw_y=np.array([pair[1] for pair in raw_data])\n",
    "    raw_data_array[i,0,:]=raw_x\n",
    "    raw_data_array[i,1,:]=raw_y\n",
    "\n",
    "print(np.mean(raw_data_array[0,:,:],axis=1))\n",
    "\n",
    "# convert to micro-volt and MHz\n",
    "raw_data_array[:,1,:]=1e6*raw_data_array[:,1,:]\n",
    "raw_data_array[:,0,:]=raw_data_array[:,0,:]/1e6\n",
    "\n",
    "print(np.mean(raw_data_array[0,:,:],axis=1))"
   ]
  },
  {
   "cell_type": "code",
   "execution_count": 6,
   "metadata": {},
   "outputs": [],
   "source": [
    "sample_vx=raw_data_array[0,0,:]\n",
    "sample_vy=raw_data_array[0,1,:]"
   ]
  },
  {
   "cell_type": "code",
   "execution_count": 7,
   "metadata": {},
   "outputs": [
    {
     "name": "stdout",
     "output_type": "stream",
     "text": [
      "599001.1599000507\n"
     ]
    }
   ],
   "source": [
    "# check the data is what we want\n",
    "binw = 0.000003333333\n",
    "ntbin=(sample_vx[length-1]-sample_vx[0])/binw\n",
    "ntbin=ntbin+1\n",
    "print(ntbin)"
   ]
  },
  {
   "cell_type": "markdown",
   "metadata": {},
   "source": [
    "# Finding proportionality constant from sun data"
   ]
  },
  {
   "cell_type": "code",
   "execution_count": 8,
   "metadata": {},
   "outputs": [
    {
     "name": "stdout",
     "output_type": "stream",
     "text": [
      "54.432038549019545\n"
     ]
    }
   ],
   "source": [
    "# Finding proportionality constant from sun data\n",
    "sunAmp = 2.3133616383333307e-05\n",
    "TSun = 100000\n",
    "viewSRT = .016\n",
    "viewSun = 6.8e-5\n",
    "TempPropConstant = (sunAmp*viewSRT)/(TSun*viewSun)\n",
    "P2T= TempPropConstant*1e9\n",
    "print(P2T)"
   ]
  },
  {
   "cell_type": "markdown",
   "metadata": {},
   "source": [
    "# Convert to velocity "
   ]
  },
  {
   "cell_type": "code",
   "execution_count": 9,
   "metadata": {},
   "outputs": [],
   "source": [
    "xx=raw_data_array[:,0,:]\n",
    "vy=raw_data_array[:,1,:]\n",
    "\n",
    "def get_velocity(frequency):\n",
    "    return(3e5*(1-1420.4/frequency))\n",
    "xv=get_velocity(xx)"
   ]
  },
  {
   "cell_type": "code",
   "execution_count": 10,
   "metadata": {},
   "outputs": [],
   "source": [
    "def get_dBm(milvolt):\n",
    "    volt=milvolt/1e6\n",
    "    return(10.*np.log10(volt*volt*1000./50))\n",
    "\n",
    "def get_power(milvolt):\n",
    "    volt=milvolt/1e6\n",
    "    return(1e12*volt*volt/50)"
   ]
  },
  {
   "cell_type": "code",
   "execution_count": 11,
   "metadata": {},
   "outputs": [],
   "source": [
    "yV=vy\n",
    "yD=get_dBm(vy)\n",
    "yP=get_power(vy)"
   ]
  },
  {
   "cell_type": "code",
   "execution_count": 12,
   "metadata": {},
   "outputs": [],
   "source": [
    "#set the errors\n",
    "shape=xx.shape\n",
    "xxerror=np.full(shape,0.0)\n",
    "yVerror=np.full(shape,0.03)\n",
    "yDerror=np.full(shape,0.03)\n",
    "yPerror=np.full(shape,0.03)\n",
    "yTerror=np.full(shape,2.0)"
   ]
  },
  {
   "cell_type": "code",
   "execution_count": 13,
   "metadata": {},
   "outputs": [],
   "source": [
    "#delete sharp peaks\n",
    "ymax=5.25\n",
    "mult=1.10\n",
    "\n",
    "start=3\n",
    "end=length-3\n",
    "\n",
    "\n",
    "def del_peak(yP_vector):\n",
    "    yP=np.copy(yP_vector)\n",
    "    for i in np.arange(start,end):\n",
    "        ytmp=yP[i]\n",
    "        ytmpM=yP[i-2]\n",
    "        ytmpP=yP[i+2]\n",
    "        yavg=(ytmpM+ytmpP)/2.0\n",
    "        if ytmp < (mult*yavg):\n",
    "            pass\n",
    "        else:\n",
    "            yP[i]=yavg\n",
    "            yP[i-1]=yavg\n",
    "            yP[i+1]=yavg\n",
    "#     print(np.all(yP==yP_vector))\n",
    "    return(yP)"
   ]
  },
  {
   "cell_type": "code",
   "execution_count": 14,
   "metadata": {},
   "outputs": [
    {
     "name": "stdout",
     "output_type": "stream",
     "text": [
      "it's working\n"
     ]
    }
   ],
   "source": [
    "def test_del_peak():\n",
    "    for i in range(180):\n",
    "        yP_vector=yP[i,:]\n",
    "        diff=yP_vector-del_peak(yP_vector)\n",
    "        if np.sum(diff)!=0:\n",
    "            print(\"it's working\")\n",
    "            break\n",
    "                \n",
    "test_del_peak()"
   ]
  },
  {
   "cell_type": "code",
   "execution_count": 15,
   "metadata": {},
   "outputs": [],
   "source": [
    "yP_no_peak=np.apply_along_axis(del_peak,1,yP)"
   ]
  },
  {
   "cell_type": "code",
   "execution_count": 16,
   "metadata": {},
   "outputs": [
    {
     "data": {
      "text/plain": [
       "array([-140.16676798, -139.46215504, -138.75754541, -138.05272768,\n",
       "       -137.34812467, -136.64352496, -135.93871717, -135.23412408,\n",
       "       -134.5295343 , -133.82473643, -133.12015326, -132.41557341,\n",
       "       -131.71078547, -131.00621223, -130.3016423 , -129.59686429,\n",
       "       -128.89230097, -128.18774097, -127.48297288, -126.7784195 ,\n",
       "       -126.07386942, -125.36911126, -124.66456779, -123.96002764,\n",
       "       -123.25527941, -122.55074587, -121.84621564, -121.14147733,\n",
       "       -120.43695372, -119.73243341, -119.02770504, -118.32319135,\n",
       "       -117.61868096, -116.91396251, -116.20945875, -115.50495829,\n",
       "       -114.80024976, -114.09575592, -113.39126538, -112.68656679,\n",
       "       -111.98208287, -111.27760225, -110.57291358, -109.86843959,\n",
       "       -109.1639689 , -108.45929015, -107.75482608, -107.05036531,\n",
       "       -106.34569649, -105.64124234, -104.9367915 , -104.2321326 ,\n",
       "       -103.52768837, -102.82324745, -102.11859849, -101.41416418,\n",
       "       -100.70973318, -100.00509414,  -99.30066975,  -98.59624867,\n",
       "        -97.89161956,  -97.18720509,  -96.48279394,  -95.77817474,\n",
       "        -95.0737702 ,  -94.36936897,  -93.6647597 ,  -92.96036508,\n",
       "        -92.25597377,  -91.55137442,  -90.84698973,  -90.14260833,\n",
       "        -89.43801891,  -88.73364414,  -88.02927266,  -87.32469317,\n",
       "        -86.62032831,  -85.91596676,  -85.21139719,  -84.50704225,\n",
       "        -83.80269062,  -83.09813098,  -82.39378596,  -81.68944425,\n",
       "        -80.98489452,  -80.28055943,  -79.57622764,  -78.87168784,\n",
       "        -78.16736266,  -77.46304079,  -76.75851091,  -76.05419566,\n",
       "        -75.34988371,  -74.64536375,  -73.94105841,  -73.23675638,\n",
       "        -72.53224635,  -71.82795093,  -71.12365882,  -70.41915871,\n",
       "        -69.71487321,  -69.01059102,  -68.30610083,  -67.60182525,\n",
       "        -66.89755298,  -66.19307271,  -65.48880705,  -64.78454469,\n",
       "        -64.08007435,  -63.3758186 ,  -62.67156617,  -61.96710574,\n",
       "        -61.26285992,  -60.5586174 ,  -59.8541669 ,  -59.14993099,\n",
       "        -58.44569839,  -57.74125781,  -57.03703182,  -56.33280914,\n",
       "        -55.62837848,  -54.92416241,  -54.21994964,  -53.5155289 ,\n",
       "        -52.81132275,  -52.1071199 ,  -51.40270908,  -50.69851284,\n",
       "        -49.99431991,  -49.28991901,  -48.58573269,  -47.88154968,\n",
       "        -47.1771587 ,  -46.4729823 ,  -45.7688092 ,  -45.06442814,\n",
       "        -44.36026166,  -43.65609848,  -42.95172733,  -42.24757076,\n",
       "        -41.5434175 ,  -40.83905628,  -40.13490963,  -39.43076628,\n",
       "        -38.72641497,  -38.02227824,  -37.31814481,  -36.61380342,\n",
       "        -35.9096766 ,  -35.20555309,  -34.50122162,  -33.79710471,\n",
       "        -33.09299111,  -32.38866957,  -31.68456258,  -30.98045889,\n",
       "        -30.27614726,  -29.57205019,  -28.86795642,  -28.16365471,\n",
       "        -27.45956755,  -26.75548369,  -26.0511919 ,  -25.34711465,\n",
       "        -24.64304071,  -23.93875884,  -23.23469151,  -22.53062748,\n",
       "        -21.82635552,  -21.12229811,  -20.41824399,  -19.71398195,\n",
       "        -19.00993445,  -18.30589025,  -17.60163813,  -16.89760054,\n",
       "        -16.19356626,  -15.48932405,  -14.78529637,  -14.08127201,\n",
       "        -13.37703971,  -12.67302195,  -11.9690075 ,  -11.26478512,\n",
       "        -10.56077727,   -9.85677273,   -9.15256027,   -8.44856234,\n",
       "         -7.74456771,   -7.04036516,   -6.33637714,   -5.63239242,\n",
       "         -4.9281998 ,   -4.22422169,   -3.52024688,   -2.81606417,\n",
       "         -2.11209597,   -1.40813108,   -0.70395828,    0.        ,\n",
       "          0.70395498,    1.40811786,    2.11206623,    2.8160113 ,\n",
       "          3.52016427,    4.22410273,    4.92803789,    5.63218094,\n",
       "          6.33610949,    7.04003473,    7.74416787,    8.44808651,\n",
       "          9.15200184,    9.85612507,   10.56003379,   11.26393921,\n",
       "         11.96805252,   12.67195134,   13.37584685,   14.07995025,\n",
       "         14.78383915,   15.48772475,   16.19181824,   16.89569723,\n",
       "         17.59957292,   18.30365649,   19.00752557,   19.71139135,\n",
       "         20.41546501,   21.11932418,   21.82318005,   22.5272438 ,\n",
       "         23.23109306,   23.93493902,   24.63899285,   25.3428322 ,\n",
       "         26.04666825,   26.75071217,   27.45454161,   28.15836776,\n",
       "         28.86240176,   29.5662213 ,   30.27003753,   30.97406162,\n",
       "         31.67787125,   32.38167757,   33.08569175,   33.78949147,\n",
       "         34.49328788,   35.19729215,   35.90108196,   36.60486847,\n",
       "         37.30886282,   38.01264272,   38.71641932,   39.42040377,\n",
       "         40.12417376,   40.82794045,   41.53191498,   42.23567507,\n",
       "         42.93943185,   43.64339647,   44.34714665,   45.05089352,\n",
       "         45.75484824,   46.4585885 ,   47.16232547,   47.86627027,\n",
       "         48.57000063,   49.27372769,   49.97766259,   50.68138304,\n",
       "         51.38510019,   52.08902517,   52.79273572,   53.49644296,\n",
       "         54.20035804,   54.90405868,   55.60775601,   56.31166118,\n",
       "         57.01535191,   57.71903934,   58.4229346 ,   59.12661542,\n",
       "         59.83029295,   60.53417829,   61.23784921,   61.94151683,\n",
       "         62.64539227,   63.34905328,   64.052711  ,   64.75657652,\n",
       "         65.46022763,   66.16387544,   66.86773106,   67.57137226,\n",
       "         68.27501016,   68.97885587,   69.68248717,   70.38611517,\n",
       "         71.08995097,   71.79357236,   72.49719045,   73.20101635,\n",
       "         73.90462784,   74.60823602,   75.31205201,   76.01565359,\n",
       "         76.71925188,   77.42305796,   78.12664963,   78.83023801,\n",
       "         79.53403418,   80.23761596,   80.94119443,   81.6449807 ,\n",
       "         82.34855257,   83.05212113,   83.75589749,   84.45945946,\n",
       "         85.16301812,   85.86678458,   86.57033664,   87.2738854 ,\n",
       "         87.97764195,   88.6811841 ,   89.38472296,   90.0884696 ,\n",
       "         90.79200186,   91.49553081,   92.19926755,   92.9027899 ,\n",
       "         93.60630895,   94.31003578,   95.01354823,   95.71705738,\n",
       "         96.4207743 ,   97.12427685,   97.82777609,   98.53148311,\n",
       "         99.23497575,   99.9384651 ,  100.64216221,  101.34564495,\n",
       "        102.04912439,  102.7528116 ,  103.45628444,  104.15975398,\n",
       "        104.86343128,  105.56689422,  106.27035386,  106.97402126,\n",
       "        107.67747429,  108.38092403,  109.08458152,  109.78802466,\n",
       "        110.4914645 ,  111.19511208,  111.89854532,  112.60197525,\n",
       "        113.30561294,  114.00903627,  114.71245631,  115.41608409,\n",
       "        116.11949752,  116.82290765,  117.52652553,  118.22992906,\n",
       "        118.9333293 ,  119.63693727,  120.3403309 ,  121.04372123,\n",
       "        121.7473193 ,  122.45070304,  123.15408347,  123.85767164,\n",
       "        124.56104547,  125.264416  ,  125.96799427,  126.6713582 ,\n",
       "        127.37471883,  128.07828719,  128.78164123,  129.48499196,\n",
       "        130.18855042,  130.89189455,  131.59523539,  132.29878395,\n",
       "        133.00211818,  133.70544912,  134.40898777,  135.11231211,\n",
       "        135.81563315,  136.5191619 ,  137.22247634,  137.92578748,\n",
       "        138.62930633,  139.33261087,  140.03591211,  140.73942106])"
      ]
     },
     "execution_count": 16,
     "metadata": {},
     "output_type": "execute_result"
    }
   ],
   "source": [
    "xv[1,:][100:500]"
   ]
  },
  {
   "cell_type": "code",
   "execution_count": 17,
   "metadata": {},
   "outputs": [],
   "source": [
    "for i in np.arange(0):\n",
    "    x=xv[i,:]\n",
    "    y=yP_no_peak[i,:]\n",
    "#     plt.axvline(width[i][0],color='r')\n",
    "#     plt.axvline(width[i][1],color='r')\n",
    "    plt.plot(x,y)\n",
    "    plt.title(i)\n",
    "    plt.show()\n"
   ]
  },
  {
   "cell_type": "code",
   "execution_count": 18,
   "metadata": {},
   "outputs": [],
   "source": [
    "#delete the signal region and fit the spectrum with second degree polynomial.\n",
    "def del_signal_and_fit(xv_vec,yP_vec,del_region=(-50,50)):\n",
    "    x1del=del_region[0]\n",
    "    x2del=del_region[1]\n",
    "    xv=np.copy(xv_vec)\n",
    "    yP_for_fit=np.copy(yP_vec)\n",
    "    yP_original=np.copy(yP_vec)\n",
    "    \n",
    "    signal_region=(xv>x1del) &(xv<x2del)\n",
    "    yP_for_fit[signal_region] = np.mean(yP_for_fit[~signal_region])\n",
    "    \n",
    "    z=np.polyfit(xv,yP_for_fit,2)\n",
    "    p=np.poly1d(z)\n",
    "#     print(yP)\n",
    "    \n",
    "#     for i in range(length):\n",
    "#         xtmp=xv[i]\n",
    "        \n",
    "#         if (xtmp > x1del and xtmp < x2del):\n",
    "#             XB[npoint]=xtmp\n",
    "#             YB[npoint]=\n",
    "#             npoint=npoint+1\n",
    "#         else:\n",
    "#             XB[npoint]=xtmp\n",
    "#             YB[npoint]=yP[i]\n",
    "#             npoint=npoint+1\n",
    "\n",
    "#     plt.plot(xv,yP_for_fit)\n",
    "#     plt.plot(xv,p(xv))\n",
    "    fit=p(xv)\n",
    "    YP=yP_original-fit\n",
    "#     plt.plot(xv,YP)\n",
    "    plt.show()\n",
    "    return(YP)"
   ]
  },
  {
   "cell_type": "code",
   "execution_count": 19,
   "metadata": {},
   "outputs": [],
   "source": [
    "subtracted_yP=np.empty([90,length])\n",
    "\n",
    "for i in range(90):\n",
    "    subtracted_yP[i,:]=del_signal_and_fit(xv[i,:],yP_no_peak[i,:],tuple(width[i]))"
   ]
  },
  {
   "cell_type": "code",
   "execution_count": 20,
   "metadata": {},
   "outputs": [],
   "source": [
    "def rebinning(xv_vec,yP_vec):\n",
    "    xv_rebinned=np.empty(int(length/6))\n",
    "    yP_rebinned=np.empty(int(length/6))\n",
    "    for i in np.arange(0,length,6):\n",
    "        xv_rebinned[int(i/6)]=np.mean(xv_vec[i:i+6])\n",
    "        yP_rebinned[int(i/6)]=np.mean(yP_vec[i:i+6])\n",
    "    return(xv_rebinned,yP_rebinned)"
   ]
  },
  {
   "cell_type": "code",
   "execution_count": 21,
   "metadata": {},
   "outputs": [
    {
     "name": "stdout",
     "output_type": "stream",
     "text": [
      "[  0   6  12  18  24  30  36  42  48  54  60  66  72  78  84  90  96 102\n",
      " 108 114 120 126 132 138 144 150 156 162 168 174 180 186 192 198 204 210\n",
      " 216 222 228 234 240 246 252 258 264 270 276 282 288 294 300 306 312 318\n",
      " 324 330 336 342 348 354 360 366 372 378 384 390 396 402 408 414 420 426\n",
      " 432 438 444 450 456 462 468 474 480 486 492 498 504 510 516 522 528 534\n",
      " 540 546 552 558 564 570 576 582 588 594]\n"
     ]
    },
    {
     "data": {
      "text/plain": [
       "[<matplotlib.lines.Line2D at 0x112580e48>]"
      ]
     },
     "execution_count": 21,
     "metadata": {},
     "output_type": "execute_result"
    },
    {
     "data": {
      "image/png": "[encoded data removed]",
      "text/plain": [
       "<Figure size 432x288 with 1 Axes>"
      ]
     },
     "metadata": {
      "needs_background": "light"
     },
     "output_type": "display_data"
    }
   ],
   "source": [
    "print(np.arange(0,length,6))\n",
    "x,y=rebinning(xv[1,:],subtracted_yP[1,:])\n",
    "plt.plot(x,y)"
   ]
  },
  {
   "cell_type": "code",
   "execution_count": 22,
   "metadata": {},
   "outputs": [],
   "source": [
    "xv.shape\n",
    "xv_rebinned=np.empty([90,100])\n",
    "yP_sub_rebinned=np.empty([90,100])\n",
    "for i in range(90):\n",
    "    x,y=x,y=rebinning(xv[i,:],subtracted_yP[i,:])\n",
    "    xv_rebinned[i,:]=x\n",
    "    yP_sub_rebinned[i,:]=y"
   ]
  },
  {
   "cell_type": "code",
   "execution_count": 23,
   "metadata": {},
   "outputs": [
    {
     "name": "stdout",
     "output_type": "stream",
     "text": [
      "100.0\n",
      "[  0   6  12  18  24  30  36  42  48  54  60  66  72  78  84  90  96 102\n",
      " 108 114 120 126 132 138 144 150 156 162 168 174 180 186 192 198 204 210\n",
      " 216 222 228 234 240 246 252 258 264 270 276 282 288 294 300 306 312 318\n",
      " 324 330 336 342 348 354 360 366 372 378 384 390 396 402 408 414 420 426\n",
      " 432 438 444 450 456 462 468 474 480 486 492 498 504 510 516 522 528 534\n",
      " 540 546 552 558 564 570 576 582 588]\n"
     ]
    }
   ],
   "source": [
    "test=xv[1,:]\n",
    "test.shape\n",
    "print(length/6)\n",
    "print(np.arange(0,length-6,6))"
   ]
  },
  {
   "cell_type": "code",
   "execution_count": 25,
   "metadata": {},
   "outputs": [],
   "source": [
    "speedData= [(-53, 7), (-51, 7), (-52, 8), (-54, 7), (-54, 8), (-54, 6), (-59, 9), (-54, 16), (-67, 12), (-61, 7), (-59, 10), (-61, 10), (-60, 10), (-75, 15), (-65, 15), (-65, 17), (-82, 20), (-65, 10), (-61, 12), (-69, 12), (-65, 15), (-70, 15), (-77, 14), (-89, 19), (-114, 15), (-122, 18), (-112, 15), (-114, 15), (-134, 20), (-114, 17), (-122, 15), (-123, 14), (-128, 17), (-120, 13), (-133, 15), (-113, 10), (-120, 20), (-116, 13), (-105, 7), (-110, 15), (-114, 14), (-124, 20), (-101, 17), (-118, 22), (-92, 20), (-93, 10), (-92, 12), (-90, 10), (-90, 9), (-90, 15), (-88, 7), (-85, 13), (-83, 15), (-78, 10), (-73, 10), (-75, 10), (-70, 12), (-73, 14), (-61, 13), (-57, 10), (-55, 18), (-56, 8), (-48, 13), (-50, 13), (-54, 15), (-40, 15), (-42, 14), (-45, 10), (-37, 10), (-36, 12), (-35, 10), (-31, 12), (-29, 14), (-29, 17), (-29, 10), (-29, 12), (-27, 9), (-27, 10), (-29, 10), (-27, 15), (-25, 5), (-25, 8), (-24, 8), (-22, 8), (-22, 12), (-18, 10), (-21, 10), (-18, 10), (-19, 15), (-13, 10)]\n",
    "len(speedData)\n",
    "np.save('speedData0to90', speedData)"
   ]
  },
  {
   "cell_type": "code",
   "execution_count": 26,
   "metadata": {},
   "outputs": [],
   "source": [
    "redshift = np.load('earth_redshift.npy').flatten()\n",
    "redshiftA = redshift[180:270]\n"
   ]
  },
  {
   "cell_type": "code",
   "execution_count": 27,
   "metadata": {},
   "outputs": [],
   "source": [
    "## ANALYZE SPEED DATA TO MAKE G CURVE\n",
    "\n",
    "dR = (8.2*1000)*np.cos(long)*(.0026)#**2\n",
    "\n",
    "\n",
    "speed_array =[]\n",
    "error_array =[]\n",
    "long = np.arange(0,90)\n",
    "for i in range(90):\n",
    "    speed = -speedData[i][0]\n",
    "    error = speedData[i][1]\n",
    "    speed_array.append(speed)\n",
    "    error_array.append(error)\n",
    "v_array =[]\n",
    "\n",
    "\n",
    "vLSR = []\n",
    "radius = 8.5*np.sin(long*np.pi/180)\n",
    "\n",
    "# add correction for angular velocity\n",
    "vCor=[None]*90\n",
    "for i in range(90):\n",
    "    vCor[i] =  220*np.sin(i*np.pi/180)\n",
    "vCor=np.array(vCor)\n",
    "v_array=np.array(speed_array)+vCor - redshiftA\n",
    "\n",
    "plt.figure(1, figsize = (5,10), dpi = 300)\n",
    "plt.title('Rotational Velocity vs. Galactic Radius', fontsize = 10)\n",
    "plt.xlabel('Radius [kpc]', fontsize = 5)\n",
    "plt.ylabel('Velocity [km/s]', fontsize = 5)\n",
    "plt.xticks(np.arange(0,9, step =0.5), fontsize = 5)\n",
    "plt.yticks(fontsize = 6)\n",
    "plt.xlim(xmin = 0.0)\n",
    "plt.ylim(0,300)\n",
    "plt.errorbar(radius, v_array, yerr = error_array, xerr = dR/1000, fmt='o', linestyle=\"None\", capsize = 2, capthick = .2, elinewidth = .2, ms = 1)\n",
    "plt.show()"
   ]
  },
  {
   "cell_type": "code",
   "execution_count": 33,
   "metadata": {},
   "outputs": [],
   "source": [
    "## Error propogation:\n",
    "\n",
    "G = 4.302e-3 # [pc*solar^-1*(km/s)^2]\n",
    "dM = np.sqrt(((2*v_array*(radius*1000)/G)*(error_array))**2 + ((v_array**2/G)*dR)**2)\n",
    "\n",
    "# Mass Distribution\n",
    "# m = v^2R/G\n",
    "\n",
    "\n",
    "#Returns mass in solar units \n",
    "mass = (v_array**2)*(radius*1000)/G \n",
    "\n",
    "plt.figure(2, figsize = (5,5), dpi = 300)\n",
    "plt.title('Mass Distribution of the Milky Way', fontsize = 10)\n",
    "plt.xlabel('Radius [kpc]', fontsize = 5)\n",
    "plt.ylabel('Mass [solar units]', fontsize = 5)\n",
    "plt.xticks(np.arange(0,9, step =0.5), fontsize = 5)\n",
    "plt.yticks(fontsize = 6)\n",
    "plt.xlim(xmin = 0.0)\n",
    "plt.ylim(0,1.3e11)\n",
    "plt.errorbar(radius, mass, yerr = dM, xerr = dR/1000, fmt='o', linestyle=\"None\", capsize = 2, capthick = .2, elinewidth = .2, ms = 1)\n",
    "plt.show()"
   ]
  },
  {
   "cell_type": "code",
   "execution_count": 34,
   "metadata": {},
   "outputs": [],
   "source": [
    "## Error propogation:\n",
    "\n",
    "dR = (8.2)*np.cos(long)*(.0026)**2\n",
    "\n",
    "dM = np.sqrt(2*v_array*(radius*1000)/G + (v_array**2/G)*dR)"
   ]
  }
 ],
 "metadata": {
  "kernelspec": {
   "display_name": "Python 3",
   "language": "python",
   "name": "python3"
  },
  "language_info": {
   "codemirror_mode": {
    "name": "ipython",
    "version": 3
   },
   "file_extension": ".py",
   "mimetype": "text/x-python",
   "name": "python",
   "nbconvert_exporter": "python",
   "pygments_lexer": "ipython3",
   "version": "3.7.3"
  }
 },
 "nbformat": 4,
 "nbformat_minor": 4
}
